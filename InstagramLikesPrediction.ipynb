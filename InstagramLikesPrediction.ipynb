{
 "cells": [
  {
   "cell_type": "code",
   "execution_count": 1,
   "id": "e0375489",
   "metadata": {},
   "outputs": [],
   "source": [
    "import numpy as np\n",
    "import pandas as pd\n",
    "from sklearn.metrics import plot_confusion_matrix\n",
    "from sklearn.linear_model import LinearRegression\n",
    "from sklearn.model_selection import train_test_split\n",
    "from sklearn.metrics import mean_squared_error\n",
    "from sklearn.metrics import accuracy_score\n",
    "import matplotlib.pyplot as plt\n",
    "%matplotlib inline\n",
    "import seaborn as sns"
   ]
  },
  {
   "cell_type": "code",
   "execution_count": 2,
   "id": "b8900c41",
   "metadata": {
    "scrolled": true
   },
   "outputs": [
    {
     "data": {
      "text/html": [
       "<div>\n",
       "<style scoped>\n",
       "    .dataframe tbody tr th:only-of-type {\n",
       "        vertical-align: middle;\n",
       "    }\n",
       "\n",
       "    .dataframe tbody tr th {\n",
       "        vertical-align: top;\n",
       "    }\n",
       "\n",
       "    .dataframe thead th {\n",
       "        text-align: right;\n",
       "    }\n",
       "</style>\n",
       "<table border=\"1\" class=\"dataframe\">\n",
       "  <thead>\n",
       "    <tr style=\"text-align: right;\">\n",
       "      <th></th>\n",
       "      <th>Unnamed: 0</th>\n",
       "      <th>S.No</th>\n",
       "      <th>USERNAME</th>\n",
       "      <th>Caption</th>\n",
       "      <th>Followers</th>\n",
       "      <th>Hashtags</th>\n",
       "      <th>Time since posted</th>\n",
       "      <th>Likes</th>\n",
       "      <th>time</th>\n",
       "    </tr>\n",
       "  </thead>\n",
       "  <tbody>\n",
       "    <tr>\n",
       "      <th>0</th>\n",
       "      <td>0</td>\n",
       "      <td>1</td>\n",
       "      <td>mikequindazzi</td>\n",
       "      <td>Who are #DataScientist and what do they do? &gt;&gt;...</td>\n",
       "      <td>1600</td>\n",
       "      <td>#MachineLearning #AI #DataAnalytics #DataScien...</td>\n",
       "      <td>11 hours</td>\n",
       "      <td>139</td>\n",
       "      <td>11</td>\n",
       "    </tr>\n",
       "    <tr>\n",
       "      <th>1</th>\n",
       "      <td>1</td>\n",
       "      <td>2</td>\n",
       "      <td>drgorillapaints</td>\n",
       "      <td>We all know where it’s going. We just have to ...</td>\n",
       "      <td>880</td>\n",
       "      <td>#deck .#mac #macintosh#sayhello #apple #steve...</td>\n",
       "      <td>2 hours</td>\n",
       "      <td>23</td>\n",
       "      <td>2</td>\n",
       "    </tr>\n",
       "    <tr>\n",
       "      <th>2</th>\n",
       "      <td>2</td>\n",
       "      <td>3</td>\n",
       "      <td>aitrading_official</td>\n",
       "      <td>Alexander Barinov: 4 years as CFO in multinati...</td>\n",
       "      <td>255</td>\n",
       "      <td>#whoiswho #aitrading #ai #aitradingteam#instat...</td>\n",
       "      <td>2 hours</td>\n",
       "      <td>25</td>\n",
       "      <td>2</td>\n",
       "    </tr>\n",
       "    <tr>\n",
       "      <th>3</th>\n",
       "      <td>3</td>\n",
       "      <td>4</td>\n",
       "      <td>opensourcedworkplace</td>\n",
       "      <td>sfad</td>\n",
       "      <td>340</td>\n",
       "      <td>#iot #cre#workplace #CDO #bigdata #technology#...</td>\n",
       "      <td>3 hours</td>\n",
       "      <td>49</td>\n",
       "      <td>3</td>\n",
       "    </tr>\n",
       "    <tr>\n",
       "      <th>4</th>\n",
       "      <td>4</td>\n",
       "      <td>5</td>\n",
       "      <td>crea.vision</td>\n",
       "      <td>Ever missed a call while your phone was chargi...</td>\n",
       "      <td>304</td>\n",
       "      <td>#instamachinelearning #instabigdata#instamarke...</td>\n",
       "      <td>3 hours</td>\n",
       "      <td>30</td>\n",
       "      <td>3</td>\n",
       "    </tr>\n",
       "    <tr>\n",
       "      <th>...</th>\n",
       "      <td>...</td>\n",
       "      <td>...</td>\n",
       "      <td>...</td>\n",
       "      <td>...</td>\n",
       "      <td>...</td>\n",
       "      <td>...</td>\n",
       "      <td>...</td>\n",
       "      <td>...</td>\n",
       "      <td>...</td>\n",
       "    </tr>\n",
       "    <tr>\n",
       "      <th>95</th>\n",
       "      <td>8</td>\n",
       "      <td>19</td>\n",
       "      <td>michaelgarza__</td>\n",
       "      <td>328 S. Wetherly Drive, Beverly Hills, CA 90212...</td>\n",
       "      <td>614</td>\n",
       "      <td>#beverlyhills #realestate#losangelesrealestate...</td>\n",
       "      <td>3 hours</td>\n",
       "      <td>31</td>\n",
       "      <td>3</td>\n",
       "    </tr>\n",
       "    <tr>\n",
       "      <th>96</th>\n",
       "      <td>9</td>\n",
       "      <td>21</td>\n",
       "      <td>dvlp_search</td>\n",
       "      <td>Credit @tristankappel To find more dvlp follow...</td>\n",
       "      <td>450</td>\n",
       "      <td>#workspace #work #developer#development #devel...</td>\n",
       "      <td>3 hours</td>\n",
       "      <td>42</td>\n",
       "      <td>3</td>\n",
       "    </tr>\n",
       "    <tr>\n",
       "      <th>97</th>\n",
       "      <td>10</td>\n",
       "      <td>22</td>\n",
       "      <td>ecom.space</td>\n",
       "      <td>We are coming up with the Best 21 Books that w...</td>\n",
       "      <td>182</td>\n",
       "      <td>#books #book #motivation #inspiration #life#bo...</td>\n",
       "      <td>3 hours</td>\n",
       "      <td>10</td>\n",
       "      <td>3</td>\n",
       "    </tr>\n",
       "    <tr>\n",
       "      <th>98</th>\n",
       "      <td>11</td>\n",
       "      <td>24</td>\n",
       "      <td>lb3enterprises</td>\n",
       "      <td>We’re only paid to move dirt once. It’s not ju...</td>\n",
       "      <td>2039</td>\n",
       "      <td>#heavyequipment #underconstruction#dozer #real...</td>\n",
       "      <td>3 hours</td>\n",
       "      <td>222</td>\n",
       "      <td>3</td>\n",
       "    </tr>\n",
       "    <tr>\n",
       "      <th>99</th>\n",
       "      <td>12</td>\n",
       "      <td>25</td>\n",
       "      <td>palmariusdev</td>\n",
       "      <td>Obtén tu tienda en línea ahora.</td>\n",
       "      <td>741</td>\n",
       "      <td>#marketing #programming#development #desarroll...</td>\n",
       "      <td>3 hours</td>\n",
       "      <td>109</td>\n",
       "      <td>3</td>\n",
       "    </tr>\n",
       "  </tbody>\n",
       "</table>\n",
       "<p>100 rows × 9 columns</p>\n",
       "</div>"
      ],
      "text/plain": [
       "    Unnamed: 0  S.No              USERNAME  \\\n",
       "0            0     1         mikequindazzi   \n",
       "1            1     2       drgorillapaints   \n",
       "2            2     3    aitrading_official   \n",
       "3            3     4  opensourcedworkplace   \n",
       "4            4     5           crea.vision   \n",
       "..         ...   ...                   ...   \n",
       "95           8    19        michaelgarza__   \n",
       "96           9    21           dvlp_search   \n",
       "97          10    22            ecom.space   \n",
       "98          11    24        lb3enterprises   \n",
       "99          12    25          palmariusdev   \n",
       "\n",
       "                                              Caption  Followers  \\\n",
       "0   Who are #DataScientist and what do they do? >>...       1600   \n",
       "1   We all know where it’s going. We just have to ...        880   \n",
       "2   Alexander Barinov: 4 years as CFO in multinati...        255   \n",
       "3                                                sfad        340   \n",
       "4   Ever missed a call while your phone was chargi...        304   \n",
       "..                                                ...        ...   \n",
       "95  328 S. Wetherly Drive, Beverly Hills, CA 90212...        614   \n",
       "96  Credit @tristankappel To find more dvlp follow...        450   \n",
       "97  We are coming up with the Best 21 Books that w...        182   \n",
       "98  We’re only paid to move dirt once. It’s not ju...       2039   \n",
       "99                    Obtén tu tienda en línea ahora.        741   \n",
       "\n",
       "                                             Hashtags Time since posted  \\\n",
       "0   #MachineLearning #AI #DataAnalytics #DataScien...          11 hours   \n",
       "1    #deck .#mac #macintosh#sayhello #apple #steve...           2 hours   \n",
       "2   #whoiswho #aitrading #ai #aitradingteam#instat...           2 hours   \n",
       "3   #iot #cre#workplace #CDO #bigdata #technology#...           3 hours   \n",
       "4   #instamachinelearning #instabigdata#instamarke...           3 hours   \n",
       "..                                                ...               ...   \n",
       "95  #beverlyhills #realestate#losangelesrealestate...           3 hours   \n",
       "96  #workspace #work #developer#development #devel...           3 hours   \n",
       "97  #books #book #motivation #inspiration #life#bo...           3 hours   \n",
       "98  #heavyequipment #underconstruction#dozer #real...           3 hours   \n",
       "99  #marketing #programming#development #desarroll...           3 hours   \n",
       "\n",
       "    Likes  time  \n",
       "0     139    11  \n",
       "1      23     2  \n",
       "2      25     2  \n",
       "3      49     3  \n",
       "4      30     3  \n",
       "..    ...   ...  \n",
       "95     31     3  \n",
       "96     42     3  \n",
       "97     10     3  \n",
       "98    222     3  \n",
       "99    109     3  \n",
       "\n",
       "[100 rows x 9 columns]"
      ]
     },
     "execution_count": 2,
     "metadata": {},
     "output_type": "execute_result"
    }
   ],
   "source": [
    "#reading csv file\n",
    "df=pd.read_csv(\"https://raw.githubusercontent.com/github-goog/colab/main/instagram_dataset.csv\")\n",
    "df"
   ]
  },
  {
   "cell_type": "code",
   "execution_count": 3,
   "id": "801dd82c",
   "metadata": {
    "scrolled": true
   },
   "outputs": [
    {
     "data": {
      "text/html": [
       "<div>\n",
       "<style scoped>\n",
       "    .dataframe tbody tr th:only-of-type {\n",
       "        vertical-align: middle;\n",
       "    }\n",
       "\n",
       "    .dataframe tbody tr th {\n",
       "        vertical-align: top;\n",
       "    }\n",
       "\n",
       "    .dataframe thead th {\n",
       "        text-align: right;\n",
       "    }\n",
       "</style>\n",
       "<table border=\"1\" class=\"dataframe\">\n",
       "  <thead>\n",
       "    <tr style=\"text-align: right;\">\n",
       "      <th></th>\n",
       "      <th>Unnamed: 0</th>\n",
       "      <th>S.No</th>\n",
       "      <th>USERNAME</th>\n",
       "      <th>Caption</th>\n",
       "      <th>Followers</th>\n",
       "      <th>Hashtags</th>\n",
       "      <th>Time since posted</th>\n",
       "      <th>Likes</th>\n",
       "      <th>time</th>\n",
       "    </tr>\n",
       "  </thead>\n",
       "  <tbody>\n",
       "    <tr>\n",
       "      <th>0</th>\n",
       "      <td>0</td>\n",
       "      <td>1</td>\n",
       "      <td>mikequindazzi</td>\n",
       "      <td>Who are #DataScientist and what do they do? &gt;&gt;...</td>\n",
       "      <td>1600</td>\n",
       "      <td>#MachineLearning #AI #DataAnalytics #DataScien...</td>\n",
       "      <td>11 hours</td>\n",
       "      <td>139</td>\n",
       "      <td>11</td>\n",
       "    </tr>\n",
       "    <tr>\n",
       "      <th>1</th>\n",
       "      <td>1</td>\n",
       "      <td>2</td>\n",
       "      <td>drgorillapaints</td>\n",
       "      <td>We all know where it’s going. We just have to ...</td>\n",
       "      <td>880</td>\n",
       "      <td>#deck .#mac #macintosh#sayhello #apple #steve...</td>\n",
       "      <td>2 hours</td>\n",
       "      <td>23</td>\n",
       "      <td>2</td>\n",
       "    </tr>\n",
       "    <tr>\n",
       "      <th>2</th>\n",
       "      <td>2</td>\n",
       "      <td>3</td>\n",
       "      <td>aitrading_official</td>\n",
       "      <td>Alexander Barinov: 4 years as CFO in multinati...</td>\n",
       "      <td>255</td>\n",
       "      <td>#whoiswho #aitrading #ai #aitradingteam#instat...</td>\n",
       "      <td>2 hours</td>\n",
       "      <td>25</td>\n",
       "      <td>2</td>\n",
       "    </tr>\n",
       "    <tr>\n",
       "      <th>3</th>\n",
       "      <td>3</td>\n",
       "      <td>4</td>\n",
       "      <td>opensourcedworkplace</td>\n",
       "      <td>sfad</td>\n",
       "      <td>340</td>\n",
       "      <td>#iot #cre#workplace #CDO #bigdata #technology#...</td>\n",
       "      <td>3 hours</td>\n",
       "      <td>49</td>\n",
       "      <td>3</td>\n",
       "    </tr>\n",
       "    <tr>\n",
       "      <th>4</th>\n",
       "      <td>4</td>\n",
       "      <td>5</td>\n",
       "      <td>crea.vision</td>\n",
       "      <td>Ever missed a call while your phone was chargi...</td>\n",
       "      <td>304</td>\n",
       "      <td>#instamachinelearning #instabigdata#instamarke...</td>\n",
       "      <td>3 hours</td>\n",
       "      <td>30</td>\n",
       "      <td>3</td>\n",
       "    </tr>\n",
       "    <tr>\n",
       "      <th>5</th>\n",
       "      <td>5</td>\n",
       "      <td>6</td>\n",
       "      <td>be.masterly</td>\n",
       "      <td>Cyber attacks are more frequent every day and ...</td>\n",
       "      <td>1231</td>\n",
       "      <td>#edtech #learning#educationtechnology #tech #l...</td>\n",
       "      <td>3 hours</td>\n",
       "      <td>18</td>\n",
       "      <td>3</td>\n",
       "    </tr>\n",
       "    <tr>\n",
       "      <th>6</th>\n",
       "      <td>6</td>\n",
       "      <td>7</td>\n",
       "      <td>lenovoworkstations</td>\n",
       "      <td>Check it out – we’re walking across the 🌎’s fi...</td>\n",
       "      <td>259</td>\n",
       "      <td>.#Tech ",
       "#virtualreality ",
       "#IoT ",
       "#Machinelearning</td>\n",
       "      <td>3 hours</td>\n",
       "      <td>35</td>\n",
       "      <td>3</td>\n",
       "    </tr>\n",
       "    <tr>\n",
       "      <th>7</th>\n",
       "      <td>7</td>\n",
       "      <td>8</td>\n",
       "      <td>kirellb</td>\n",
       "      <td>Here's a network I made that depicts the scien...</td>\n",
       "      <td>1433</td>\n",
       "      <td>#datascientist #creativetechnology#design #art...</td>\n",
       "      <td>4 hours</td>\n",
       "      <td>86</td>\n",
       "      <td>4</td>\n",
       "    </tr>\n",
       "    <tr>\n",
       "      <th>8</th>\n",
       "      <td>8</td>\n",
       "      <td>9</td>\n",
       "      <td>ethicsandai</td>\n",
       "      <td>Having a great week at @ldntechweek exploring ...</td>\n",
       "      <td>13</td>\n",
       "      <td>#LTW #London #TechXLR8 #Technology#AI #Artific...</td>\n",
       "      <td>4 hours</td>\n",
       "      <td>22</td>\n",
       "      <td>4</td>\n",
       "    </tr>\n",
       "    <tr>\n",
       "      <th>9</th>\n",
       "      <td>9</td>\n",
       "      <td>10</td>\n",
       "      <td>diworksolucionesdeti</td>\n",
       "      <td>The Internet of Things : A Very Short Story [#...</td>\n",
       "      <td>450</td>\n",
       "      <td>[#Infographic] #Wearable #Sensors #MachineLear...</td>\n",
       "      <td>7 hours</td>\n",
       "      <td>18</td>\n",
       "      <td>7</td>\n",
       "    </tr>\n",
       "    <tr>\n",
       "      <th>10</th>\n",
       "      <td>10</td>\n",
       "      <td>11</td>\n",
       "      <td>databowl</td>\n",
       "      <td>Today we are featured in The Future CMO Magazi...</td>\n",
       "      <td>149</td>\n",
       "      <td>#artificialintelligence #futurism#machinelearn...</td>\n",
       "      <td>7 hours</td>\n",
       "      <td>31</td>\n",
       "      <td>7</td>\n",
       "    </tr>\n",
       "    <tr>\n",
       "      <th>11</th>\n",
       "      <td>11</td>\n",
       "      <td>13</td>\n",
       "      <td>edwisor_india</td>\n",
       "      <td>The IT industry is rapidly booming. Is your ca...</td>\n",
       "      <td>2232</td>\n",
       "      <td>#WedenesdayWisdom #IndustryInsights#GetSkilled...</td>\n",
       "      <td>8 hours</td>\n",
       "      <td>48</td>\n",
       "      <td>8</td>\n",
       "    </tr>\n",
       "    <tr>\n",
       "      <th>12</th>\n",
       "      <td>12</td>\n",
       "      <td>14</td>\n",
       "      <td>ubiqum</td>\n",
       "      <td>Just an average day for a programmer 😖 #workth...</td>\n",
       "      <td>1061</td>\n",
       "      <td>#webdevelopment #coding #programming#codinglif...</td>\n",
       "      <td>9 hours</td>\n",
       "      <td>80</td>\n",
       "      <td>9</td>\n",
       "    </tr>\n",
       "    <tr>\n",
       "      <th>13</th>\n",
       "      <td>13</td>\n",
       "      <td>15</td>\n",
       "      <td>artificialintelligence.a.i</td>\n",
       "      <td>Tag him who promised to help you but he doesn'...</td>\n",
       "      <td>533</td>\n",
       "      <td>#artificialintelligence #ai#machinelearning#de...</td>\n",
       "      <td>11 hours</td>\n",
       "      <td>94</td>\n",
       "      <td>11</td>\n",
       "    </tr>\n",
       "    <tr>\n",
       "      <th>14</th>\n",
       "      <td>14</td>\n",
       "      <td>18</td>\n",
       "      <td>ansonmccade</td>\n",
       "      <td>Do you really need #blockchain?</td>\n",
       "      <td>2904</td>\n",
       "      <td>#blockchaintechnology #blockchains #tech#techn...</td>\n",
       "      <td>3 hours</td>\n",
       "      <td>28</td>\n",
       "      <td>3</td>\n",
       "    </tr>\n",
       "  </tbody>\n",
       "</table>\n",
       "</div>"
      ],
      "text/plain": [
       "    Unnamed: 0  S.No                    USERNAME  \\\n",
       "0            0     1               mikequindazzi   \n",
       "1            1     2             drgorillapaints   \n",
       "2            2     3          aitrading_official   \n",
       "3            3     4        opensourcedworkplace   \n",
       "4            4     5                 crea.vision   \n",
       "5            5     6                 be.masterly   \n",
       "6            6     7          lenovoworkstations   \n",
       "7            7     8                     kirellb   \n",
       "8            8     9                 ethicsandai   \n",
       "9            9    10        diworksolucionesdeti   \n",
       "10          10    11                    databowl   \n",
       "11          11    13               edwisor_india   \n",
       "12          12    14                      ubiqum   \n",
       "13          13    15  artificialintelligence.a.i   \n",
       "14          14    18                 ansonmccade   \n",
       "\n",
       "                                              Caption  Followers  \\\n",
       "0   Who are #DataScientist and what do they do? >>...       1600   \n",
       "1   We all know where it’s going. We just have to ...        880   \n",
       "2   Alexander Barinov: 4 years as CFO in multinati...        255   \n",
       "3                                                sfad        340   \n",
       "4   Ever missed a call while your phone was chargi...        304   \n",
       "5   Cyber attacks are more frequent every day and ...       1231   \n",
       "6   Check it out – we’re walking across the 🌎’s fi...        259   \n",
       "7   Here's a network I made that depicts the scien...       1433   \n",
       "8   Having a great week at @ldntechweek exploring ...         13   \n",
       "9   The Internet of Things : A Very Short Story [#...        450   \n",
       "10  Today we are featured in The Future CMO Magazi...        149   \n",
       "11  The IT industry is rapidly booming. Is your ca...       2232   \n",
       "12  Just an average day for a programmer 😖 #workth...       1061   \n",
       "13  Tag him who promised to help you but he doesn'...        533   \n",
       "14                    Do you really need #blockchain?       2904   \n",
       "\n",
       "                                             Hashtags Time since posted  \\\n",
       "0   #MachineLearning #AI #DataAnalytics #DataScien...          11 hours   \n",
       "1    #deck .#mac #macintosh#sayhello #apple #steve...           2 hours   \n",
       "2   #whoiswho #aitrading #ai #aitradingteam#instat...           2 hours   \n",
       "3   #iot #cre#workplace #CDO #bigdata #technology#...           3 hours   \n",
       "4   #instamachinelearning #instabigdata#instamarke...           3 hours   \n",
       "5   #edtech #learning#educationtechnology #tech #l...           3 hours   \n",
       "6        .#Tech\n",
       "#virtualreality\n",
       "#IoT\n",
       "#Machinelearning           3 hours   \n",
       "7   #datascientist #creativetechnology#design #art...           4 hours   \n",
       "8   #LTW #London #TechXLR8 #Technology#AI #Artific...           4 hours   \n",
       "9   [#Infographic] #Wearable #Sensors #MachineLear...           7 hours   \n",
       "10  #artificialintelligence #futurism#machinelearn...           7 hours   \n",
       "11  #WedenesdayWisdom #IndustryInsights#GetSkilled...           8 hours   \n",
       "12  #webdevelopment #coding #programming#codinglif...           9 hours   \n",
       "13  #artificialintelligence #ai#machinelearning#de...          11 hours   \n",
       "14  #blockchaintechnology #blockchains #tech#techn...           3 hours   \n",
       "\n",
       "    Likes  time  \n",
       "0     139    11  \n",
       "1      23     2  \n",
       "2      25     2  \n",
       "3      49     3  \n",
       "4      30     3  \n",
       "5      18     3  \n",
       "6      35     3  \n",
       "7      86     4  \n",
       "8      22     4  \n",
       "9      18     7  \n",
       "10     31     7  \n",
       "11     48     8  \n",
       "12     80     9  \n",
       "13     94    11  \n",
       "14     28     3  "
      ]
     },
     "execution_count": 3,
     "metadata": {},
     "output_type": "execute_result"
    }
   ],
   "source": [
    "df.head(15)"
   ]
  },
  {
   "cell_type": "code",
   "execution_count": 4,
   "id": "239bc067",
   "metadata": {},
   "outputs": [
    {
     "data": {
      "text/plain": [
       "Index(['Unnamed: 0', 'S.No', 'USERNAME', 'Caption', 'Followers', 'Hashtags',\n",
       "       'Time since posted', 'Likes', 'time'],\n",
       "      dtype='object')"
      ]
     },
     "execution_count": 4,
     "metadata": {},
     "output_type": "execute_result"
    }
   ],
   "source": [
    "df.columns"
   ]
  },
  {
   "cell_type": "code",
   "execution_count": 5,
   "id": "0ac431d1",
   "metadata": {
    "scrolled": true
   },
   "outputs": [
    {
     "data": {
      "text/html": [
       "<div>\n",
       "<style scoped>\n",
       "    .dataframe tbody tr th:only-of-type {\n",
       "        vertical-align: middle;\n",
       "    }\n",
       "\n",
       "    .dataframe tbody tr th {\n",
       "        vertical-align: top;\n",
       "    }\n",
       "\n",
       "    .dataframe thead th {\n",
       "        text-align: right;\n",
       "    }\n",
       "</style>\n",
       "<table border=\"1\" class=\"dataframe\">\n",
       "  <thead>\n",
       "    <tr style=\"text-align: right;\">\n",
       "      <th></th>\n",
       "      <th>USERNAME</th>\n",
       "      <th>Followers</th>\n",
       "      <th>Time since posted</th>\n",
       "      <th>Likes</th>\n",
       "      <th>time</th>\n",
       "    </tr>\n",
       "  </thead>\n",
       "  <tbody>\n",
       "    <tr>\n",
       "      <th>0</th>\n",
       "      <td>mikequindazzi</td>\n",
       "      <td>1600</td>\n",
       "      <td>11 hours</td>\n",
       "      <td>139</td>\n",
       "      <td>11</td>\n",
       "    </tr>\n",
       "    <tr>\n",
       "      <th>1</th>\n",
       "      <td>drgorillapaints</td>\n",
       "      <td>880</td>\n",
       "      <td>2 hours</td>\n",
       "      <td>23</td>\n",
       "      <td>2</td>\n",
       "    </tr>\n",
       "    <tr>\n",
       "      <th>2</th>\n",
       "      <td>aitrading_official</td>\n",
       "      <td>255</td>\n",
       "      <td>2 hours</td>\n",
       "      <td>25</td>\n",
       "      <td>2</td>\n",
       "    </tr>\n",
       "    <tr>\n",
       "      <th>3</th>\n",
       "      <td>opensourcedworkplace</td>\n",
       "      <td>340</td>\n",
       "      <td>3 hours</td>\n",
       "      <td>49</td>\n",
       "      <td>3</td>\n",
       "    </tr>\n",
       "    <tr>\n",
       "      <th>4</th>\n",
       "      <td>crea.vision</td>\n",
       "      <td>304</td>\n",
       "      <td>3 hours</td>\n",
       "      <td>30</td>\n",
       "      <td>3</td>\n",
       "    </tr>\n",
       "    <tr>\n",
       "      <th>5</th>\n",
       "      <td>be.masterly</td>\n",
       "      <td>1231</td>\n",
       "      <td>3 hours</td>\n",
       "      <td>18</td>\n",
       "      <td>3</td>\n",
       "    </tr>\n",
       "    <tr>\n",
       "      <th>6</th>\n",
       "      <td>lenovoworkstations</td>\n",
       "      <td>259</td>\n",
       "      <td>3 hours</td>\n",
       "      <td>35</td>\n",
       "      <td>3</td>\n",
       "    </tr>\n",
       "    <tr>\n",
       "      <th>7</th>\n",
       "      <td>kirellb</td>\n",
       "      <td>1433</td>\n",
       "      <td>4 hours</td>\n",
       "      <td>86</td>\n",
       "      <td>4</td>\n",
       "    </tr>\n",
       "    <tr>\n",
       "      <th>8</th>\n",
       "      <td>ethicsandai</td>\n",
       "      <td>13</td>\n",
       "      <td>4 hours</td>\n",
       "      <td>22</td>\n",
       "      <td>4</td>\n",
       "    </tr>\n",
       "    <tr>\n",
       "      <th>9</th>\n",
       "      <td>diworksolucionesdeti</td>\n",
       "      <td>450</td>\n",
       "      <td>7 hours</td>\n",
       "      <td>18</td>\n",
       "      <td>7</td>\n",
       "    </tr>\n",
       "    <tr>\n",
       "      <th>10</th>\n",
       "      <td>databowl</td>\n",
       "      <td>149</td>\n",
       "      <td>7 hours</td>\n",
       "      <td>31</td>\n",
       "      <td>7</td>\n",
       "    </tr>\n",
       "    <tr>\n",
       "      <th>11</th>\n",
       "      <td>edwisor_india</td>\n",
       "      <td>2232</td>\n",
       "      <td>8 hours</td>\n",
       "      <td>48</td>\n",
       "      <td>8</td>\n",
       "    </tr>\n",
       "    <tr>\n",
       "      <th>12</th>\n",
       "      <td>ubiqum</td>\n",
       "      <td>1061</td>\n",
       "      <td>9 hours</td>\n",
       "      <td>80</td>\n",
       "      <td>9</td>\n",
       "    </tr>\n",
       "    <tr>\n",
       "      <th>13</th>\n",
       "      <td>artificialintelligence.a.i</td>\n",
       "      <td>533</td>\n",
       "      <td>11 hours</td>\n",
       "      <td>94</td>\n",
       "      <td>11</td>\n",
       "    </tr>\n",
       "    <tr>\n",
       "      <th>14</th>\n",
       "      <td>ansonmccade</td>\n",
       "      <td>2904</td>\n",
       "      <td>3 hours</td>\n",
       "      <td>28</td>\n",
       "      <td>3</td>\n",
       "    </tr>\n",
       "  </tbody>\n",
       "</table>\n",
       "</div>"
      ],
      "text/plain": [
       "                      USERNAME  Followers Time since posted  Likes  time\n",
       "0                mikequindazzi       1600          11 hours    139    11\n",
       "1              drgorillapaints        880           2 hours     23     2\n",
       "2           aitrading_official        255           2 hours     25     2\n",
       "3         opensourcedworkplace        340           3 hours     49     3\n",
       "4                  crea.vision        304           3 hours     30     3\n",
       "5                  be.masterly       1231           3 hours     18     3\n",
       "6           lenovoworkstations        259           3 hours     35     3\n",
       "7                      kirellb       1433           4 hours     86     4\n",
       "8                  ethicsandai         13           4 hours     22     4\n",
       "9         diworksolucionesdeti        450           7 hours     18     7\n",
       "10                    databowl        149           7 hours     31     7\n",
       "11               edwisor_india       2232           8 hours     48     8\n",
       "12                      ubiqum       1061           9 hours     80     9\n",
       "13  artificialintelligence.a.i        533          11 hours     94    11\n",
       "14                 ansonmccade       2904           3 hours     28     3"
      ]
     },
     "execution_count": 5,
     "metadata": {},
     "output_type": "execute_result"
    }
   ],
   "source": [
    "df=df.drop(['Unnamed: 0','S.No','Caption','Hashtags'],axis=1)\n",
    "df.head(15)"
   ]
  },
  {
   "cell_type": "code",
   "execution_count": 6,
   "id": "ef40068f",
   "metadata": {
    "scrolled": true
   },
   "outputs": [
    {
     "data": {
      "text/plain": [
       "(100, 5)"
      ]
     },
     "execution_count": 6,
     "metadata": {},
     "output_type": "execute_result"
    }
   ],
   "source": [
    "df.shape"
   ]
  },
  {
   "cell_type": "code",
   "execution_count": 7,
   "id": "2a44e102",
   "metadata": {
    "scrolled": true
   },
   "outputs": [
    {
     "data": {
      "text/plain": [
       "USERNAME             0\n",
       "Followers            0\n",
       "Time since posted    0\n",
       "Likes                0\n",
       "time                 0\n",
       "dtype: int64"
      ]
     },
     "execution_count": 7,
     "metadata": {},
     "output_type": "execute_result"
    }
   ],
   "source": [
    "df.isnull().sum()"
   ]
  },
  {
   "cell_type": "code",
   "execution_count": 8,
   "id": "784894dd",
   "metadata": {},
   "outputs": [
    {
     "data": {
      "text/plain": [
       "<AxesSubplot:>"
      ]
     },
     "execution_count": 8,
     "metadata": {},
     "output_type": "execute_result"
    },
    {
     "data": {
      "image/png": "[encoded data removed]",
      "text/plain": [
       "<Figure size 432x288 with 2 Axes>"
      ]
     },
     "metadata": {
      "needs_background": "light"
     },
     "output_type": "display_data"
    }
   ],
   "source": [
    "sns.heatmap(df.isnull())"
   ]
  },
  {
   "cell_type": "code",
   "execution_count": 9,
   "id": "c6a01185",
   "metadata": {
    "scrolled": true
   },
   "outputs": [
    {
     "data": {
      "text/plain": [
       "<AxesSubplot:>"
      ]
     },
     "execution_count": 9,
     "metadata": {},
     "output_type": "execute_result"
    },
    {
     "data": {
      "image/png": "[encoded data removed]",
      "text/plain": [
       "<Figure size 432x288 with 2 Axes>"
      ]
     },
     "metadata": {
      "needs_background": "light"
     },
     "output_type": "display_data"
    }
   ],
   "source": [
    "sns.heatmap(df.corr(),annot=True)"
   ]
  },
  {
   "cell_type": "code",
   "execution_count": 10,
   "id": "6baf06ed",
   "metadata": {},
   "outputs": [
    {
     "data": {
      "text/plain": [
       "<AxesSubplot:>"
      ]
     },
     "execution_count": 10,
     "metadata": {},
     "output_type": "execute_result"
    },
    {
     "data": {
      "image/png": "[encoded data removed]",
      "text/plain": [
       "<Figure size 432x288 with 1 Axes>"
      ]
     },
     "metadata": {
      "needs_background": "light"
     },
     "output_type": "display_data"
    }
   ],
   "source": [
    "df.plot()"
   ]
  },
  {
   "cell_type": "code",
   "execution_count": 11,
   "id": "5ff4750d",
   "metadata": {
    "scrolled": true
   },
   "outputs": [
    {
     "data": {
      "text/plain": [
       "(array([44., 17., 17.,  5.,  4.,  5.,  4.,  1.,  1.,  2.]),\n",
       " array([  11. ,  459.5,  908. , 1356.5, 1805. , 2253.5, 2702. , 3150.5,\n",
       "        3599. , 4047.5, 4496. ]),\n",
       " <BarContainer object of 10 artists>)"
      ]
     },
     "execution_count": 11,
     "metadata": {},
     "output_type": "execute_result"
    },
    {
     "data": {
      "image/png": "[encoded data removed]",
      "text/plain": [
       "<Figure size 432x288 with 1 Axes>"
      ]
     },
     "metadata": {
      "needs_background": "light"
     },
     "output_type": "display_data"
    }
   ],
   "source": [
    "plt.hist(df['Followers'])"
   ]
  },
  {
   "cell_type": "code",
   "execution_count": 12,
   "id": "4fba9738",
   "metadata": {
    "scrolled": false
   },
   "outputs": [
    {
     "data": {
      "text/plain": [
       "(array([70., 14.,  7.,  3.,  2.,  1.,  1.,  1.,  0.,  1.]),\n",
       " array([  8. ,  42.1,  76.2, 110.3, 144.4, 178.5, 212.6, 246.7, 280.8,\n",
       "        314.9, 349. ]),\n",
       " <BarContainer object of 10 artists>)"
      ]
     },
     "execution_count": 12,
     "metadata": {},
     "output_type": "execute_result"
    },
    {
     "data": {
      "image/png": "[encoded data removed]",
      "text/plain": [
       "<Figure size 432x288 with 1 Axes>"
      ]
     },
     "metadata": {
      "needs_background": "light"
     },
     "output_type": "display_data"
    }
   ],
   "source": [
    "plt.hist(df['Likes'])"
   ]
  },
  {
   "cell_type": "code",
   "execution_count": 13,
   "id": "f456ef77",
   "metadata": {
    "scrolled": true
   },
   "outputs": [
    {
     "data": {
      "text/plain": [
       "(array([89.,  1.,  4.,  1.,  2.,  1.,  0.,  0.,  1.,  1.]),\n",
       " array([ 2. ,  4.2,  6.4,  8.6, 10.8, 13. , 15.2, 17.4, 19.6, 21.8, 24. ]),\n",
       " <BarContainer object of 10 artists>)"
      ]
     },
     "execution_count": 13,
     "metadata": {},
     "output_type": "execute_result"
    },
    {
     "data": {
      "image/png": "[encoded data removed]",
      "text/plain": [
       "<Figure size 432x288 with 1 Axes>"
      ]
     },
     "metadata": {
      "needs_background": "light"
     },
     "output_type": "display_data"
    }
   ],
   "source": [
    "plt.hist(df[\"time\"])"
   ]
  },
  {
   "cell_type": "code",
   "execution_count": 14,
   "id": "c0c3e451",
   "metadata": {
    "scrolled": true
   },
   "outputs": [
    {
     "name": "stdout",
     "output_type": "stream",
     "text": [
      "x dataset ---->\n",
      "\n",
      "                USERNAME  Followers Time since posted  time\n",
      "0          mikequindazzi       1600          11 hours    11\n",
      "1        drgorillapaints        880           2 hours     2\n",
      "2     aitrading_official        255           2 hours     2\n",
      "3   opensourcedworkplace        340           3 hours     3\n",
      "4            crea.vision        304           3 hours     3\n",
      "..                   ...        ...               ...   ...\n",
      "95        michaelgarza__        614           3 hours     3\n",
      "96           dvlp_search        450           3 hours     3\n",
      "97            ecom.space        182           3 hours     3\n",
      "98        lb3enterprises       2039           3 hours     3\n",
      "99          palmariusdev        741           3 hours     3\n",
      "\n",
      "[100 rows x 4 columns]\n",
      "\n",
      "\n",
      "y dataset ---->\n",
      "\n",
      "    Likes\n",
      "0     139\n",
      "1      23\n",
      "2      25\n",
      "3      49\n",
      "4      30\n",
      "..    ...\n",
      "95     31\n",
      "96     42\n",
      "97     10\n",
      "98    222\n",
      "99    109\n",
      "\n",
      "[100 rows x 1 columns]\n",
      "\n"
     ]
    }
   ],
   "source": [
    "x = df.drop('Likes',axis=1)\n",
    "y = df[['Likes']]\n",
    "print(\"x dataset ---->\")\n",
    "print()\n",
    "print(x)\n",
    "print()\n",
    "print()\n",
    "print(\"y dataset ---->\")\n",
    "print()\n",
    "print(y)\n",
    "print()"
   ]
  },
  {
   "cell_type": "code",
   "execution_count": 15,
   "id": "e14e112e",
   "metadata": {
    "scrolled": true
   },
   "outputs": [
    {
     "name": "stdout",
     "output_type": "stream",
     "text": [
      "\n",
      "\n",
      "AxesSubplot(0.125,0.125;0.775x0.755)\n",
      "AxesSubplot(0.125,0.125;0.775x0.755)\n"
     ]
    },
    {
     "data": {
      "image/png": "[encoded data removed]",
      "text/plain": [
       "<Figure size 432x288 with 1 Axes>"
      ]
     },
     "metadata": {
      "needs_background": "light"
     },
     "output_type": "display_data"
    },
    {
     "data": {
      "image/png": "[encoded data removed]",
      "text/plain": [
       "<Figure size 432x288 with 1 Axes>"
      ]
     },
     "metadata": {
      "needs_background": "light"
     },
     "output_type": "display_data"
    }
   ],
   "source": [
    "#plotting x and y dataset\n",
    "print()\n",
    "plot1=x.plot()\n",
    "print()\n",
    "plot2=y.plot()\n",
    "print(plot1)\n",
    "print(plot2)"
   ]
  },
  {
   "cell_type": "code",
   "execution_count": 16,
   "id": "3d89b6a5",
   "metadata": {
    "scrolled": true
   },
   "outputs": [],
   "source": [
    "#splitting dataset in 80:20 ratio\n",
    "x_train,x_test,y_train,y_test=train_test_split(x,y,test_size=0.2,random_state=1)"
   ]
  },
  {
   "cell_type": "code",
   "execution_count": 17,
   "id": "a3752fde",
   "metadata": {
    "scrolled": true
   },
   "outputs": [
    {
     "data": {
      "text/plain": [
       "LinearRegression()"
      ]
     },
     "execution_count": 17,
     "metadata": {},
     "output_type": "execute_result"
    }
   ],
   "source": [
    "\n",
    "#training the model\n",
    "reg=LinearRegression()\n",
    "reg.fit(x_train[['Followers','time']],y_train)"
   ]
  },
  {
   "cell_type": "code",
   "execution_count": 18,
   "id": "362d2e0b",
   "metadata": {
    "scrolled": true
   },
   "outputs": [
    {
     "name": "stdout",
     "output_type": "stream",
     "text": [
      "[[ 29.32141621]\n",
      " [ 40.01992577]\n",
      " [ 31.15514132]\n",
      " [ 32.23977022]\n",
      " [ 29.47357638]\n",
      " [ 50.47653967]\n",
      " [ 32.03298845]\n",
      " [ 32.07200388]\n",
      " [ 32.68844764]\n",
      " [ 36.63290742]\n",
      " [ 29.18876375]\n",
      " [153.05289191]\n",
      " [ 30.8430179 ]\n",
      " [ 49.80547431]\n",
      " [ 57.33155037]\n",
      " [ 32.26317948]\n",
      " [ 28.82201873]\n",
      " [ 29.23558227]\n",
      " [ 29.73497974]\n",
      " [ 78.5378731 ]]\n"
     ]
    }
   ],
   "source": [
    "#making prediction on test dataset\n",
    "y_predicted=reg.predict(x_test[['Followers','time']])\n",
    "print(y_predicted)"
   ]
  },
  {
   "cell_type": "code",
   "execution_count": 19,
   "id": "4eda44a4",
   "metadata": {},
   "outputs": [],
   "source": [
    "#visualizing Predicted and actual values\n",
    "temp1=[]\n",
    "temp2=[]\n",
    "temp3=[]\n",
    "for i in range(len(y_test.values)):\n",
    "    temp1.append(int(y_test.values[i]))\n",
    "for i in range(len(y_predicted)):\n",
    "    temp2.append(int(y_predicted[i]))  \n",
    "for i in range(len(y_predicted)):\n",
    "    temp3.append(i)   "
   ]
  },
  {
   "cell_type": "code",
   "execution_count": 20,
   "id": "0d600bf0",
   "metadata": {
    "scrolled": false
   },
   "outputs": [
    {
     "name": "stdout",
     "output_type": "stream",
     "text": [
      "Actual Values:\n",
      "[28, 33, 30, 43, 20, 46, 93, 31, 40, 29, 12, 136, 17, 17, 157, 14, 19, 16, 12, 31]\n",
      "Predicted Values\n",
      "[29, 40, 31, 32, 29, 50, 32, 32, 32, 36, 29, 153, 30, 49, 57, 32, 28, 29, 29, 78]\n",
      "\n",
      "\n",
      "\n"
     ]
    },
    {
     "data": {
      "text/plain": [
       "<matplotlib.collections.PathCollection at 0x1c675afd2e0>"
      ]
     },
     "execution_count": 20,
     "metadata": {},
     "output_type": "execute_result"
    },
    {
     "data": {
      "image/png": "[encoded data removed]",
      "text/plain": [
       "<Figure size 432x288 with 1 Axes>"
      ]
     },
     "metadata": {
      "needs_background": "light"
     },
     "output_type": "display_data"
    }
   ],
   "source": [
    "print(\"Actual Values:\")\n",
    "print(temp1)\n",
    "print(\"Predicted Values\")\n",
    "print(temp2)\n",
    "print(\"\\n\"*2)\n",
    "plt.scatter(temp3,temp1,marker=\"*\",color='orange')\n",
    "plt.scatter(temp3,temp2,color='green')"
   ]
  },
  {
   "cell_type": "code",
   "execution_count": 21,
   "id": "5e28ab14",
   "metadata": {},
   "outputs": [
    {
     "name": "stdout",
     "output_type": "stream",
     "text": [
      "Mean Squared error: 953.761719\n"
     ]
    }
   ],
   "source": [
    "#printing prediction MSE value\n",
    "pred=mean_squared_error(y_test,y_predicted)\n",
    "print(\"Mean Squared error: %f\"%pred)"
   ]
  },
  {
   "cell_type": "code",
   "execution_count": 22,
   "id": "aa60403e",
   "metadata": {
    "scrolled": true
   },
   "outputs": [
    {
     "name": "stdout",
     "output_type": "stream",
     "text": [
      "Prediction for custom values : 42.513012\n"
     ]
    },
    {
     "name": "stderr",
     "output_type": "stream",
     "text": [
      "C:\\Users\\DELL\\anaconda3\\lib\\site-packages\\sklearn\\base.py:450: UserWarning: X does not have valid feature names, but LinearRegression was fitted with feature names\n",
      "  warnings.warn(\n"
     ]
    }
   ],
   "source": [
    "#Making Prediction on Custom Values\n",
    "custom_pred=reg.predict([[1000,3]])\n",
    "print(\"Prediction for custom values : %f\"%custom_pred[0][0])"
   ]
  }
 ],
 "metadata": {
  "kernelspec": {
   "display_name": "Python 3 (ipykernel)",
   "language": "python",
   "name": "python3"
  },
  "language_info": {
   "codemirror_mode": {
    "name": "ipython",
    "version": 3
   },
   "file_extension": ".py",
   "mimetype": "text/x-python",
   "name": "python",
   "nbconvert_exporter": "python",
   "pygments_lexer": "ipython3",
   "version": "3.9.12"
  }
 },
 "nbformat": 4,
 "nbformat_minor": 5
}
